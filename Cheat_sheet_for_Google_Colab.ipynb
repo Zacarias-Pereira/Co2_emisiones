{
  "nbformat": 4,
  "nbformat_minor": 0,
  "metadata": {
    "colab": {
      "name": "Cheat-sheet_for_Google_Colab.ipynb",
      "provenance": [],
      "include_colab_link": true
    },
    "kernelspec": {
      "name": "python3",
      "display_name": "Python 3"
    }
  },
  "cells": [
    {
      "cell_type": "markdown",
      "metadata": {
        "id": "view-in-github",
        "colab_type": "text"
      },
      "source": [
        "<a href=\"https://colab.research.google.com/github/Zacarias-Pereira/Co2_emisiones/blob/main/Cheat_sheet_for_Google_Colab.ipynb\" target=\"_parent\"><img src=\"https://colab.research.google.com/assets/colab-badge.svg\" alt=\"Open In Colab\"/></a>"
      ]
    },
    {
      "cell_type": "code",
      "source": [
        "# PASO 1: Importar librerías necesarias\n",
        "import pandas as pd\n",
        "\n",
        "# PASO 2: Descargar el dataset directamente desde GitHub\n",
        "url = \"https://github.com/owid/co2-data/raw/master/owid-co2-data.csv\"\n",
        "df = pd.read_csv(url)\n",
        "\n",
        "# PASO 3: Ver las primeras filas\n",
        "df.head()\n"
      ],
      "metadata": {
        "id": "bDYDpcdMCyRA",
        "outputId": "17da765f-e946-492d-d477-7b79e08769fc",
        "colab": {
          "base_uri": "https://localhost:8080/",
          "height": 255
        }
      },
      "execution_count": 2,
      "outputs": [
        {
          "output_type": "execute_result",
          "data": {
            "text/plain": [
              "       country  year iso_code  population  gdp  cement_co2  \\\n",
              "0  Afghanistan  1750      AFG   2802560.0  NaN         0.0   \n",
              "1  Afghanistan  1751      AFG         NaN  NaN         0.0   \n",
              "2  Afghanistan  1752      AFG         NaN  NaN         0.0   \n",
              "3  Afghanistan  1753      AFG         NaN  NaN         0.0   \n",
              "4  Afghanistan  1754      AFG         NaN  NaN         0.0   \n",
              "\n",
              "   cement_co2_per_capita  co2  co2_growth_abs  co2_growth_prct  ...  \\\n",
              "0                    0.0  NaN             NaN              NaN  ...   \n",
              "1                    NaN  NaN             NaN              NaN  ...   \n",
              "2                    NaN  NaN             NaN              NaN  ...   \n",
              "3                    NaN  NaN             NaN              NaN  ...   \n",
              "4                    NaN  NaN             NaN              NaN  ...   \n",
              "\n",
              "   share_global_other_co2  share_of_temperature_change_from_ghg  \\\n",
              "0                     NaN                                   NaN   \n",
              "1                     NaN                                   NaN   \n",
              "2                     NaN                                   NaN   \n",
              "3                     NaN                                   NaN   \n",
              "4                     NaN                                   NaN   \n",
              "\n",
              "   temperature_change_from_ch4  temperature_change_from_co2  \\\n",
              "0                          NaN                          NaN   \n",
              "1                          NaN                          NaN   \n",
              "2                          NaN                          NaN   \n",
              "3                          NaN                          NaN   \n",
              "4                          NaN                          NaN   \n",
              "\n",
              "   temperature_change_from_ghg  temperature_change_from_n2o  total_ghg  \\\n",
              "0                          NaN                          NaN        NaN   \n",
              "1                          NaN                          NaN        NaN   \n",
              "2                          NaN                          NaN        NaN   \n",
              "3                          NaN                          NaN        NaN   \n",
              "4                          NaN                          NaN        NaN   \n",
              "\n",
              "   total_ghg_excluding_lucf  trade_co2  trade_co2_share  \n",
              "0                       NaN        NaN              NaN  \n",
              "1                       NaN        NaN              NaN  \n",
              "2                       NaN        NaN              NaN  \n",
              "3                       NaN        NaN              NaN  \n",
              "4                       NaN        NaN              NaN  \n",
              "\n",
              "[5 rows x 79 columns]"
            ],
            "text/html": [
              "\n",
              "  <div id=\"df-20f59ccf-4a4a-43e5-ad80-343d338bdc27\" class=\"colab-df-container\">\n",
              "    <div>\n",
              "<style scoped>\n",
              "    .dataframe tbody tr th:only-of-type {\n",
              "        vertical-align: middle;\n",
              "    }\n",
              "\n",
              "    .dataframe tbody tr th {\n",
              "        vertical-align: top;\n",
              "    }\n",
              "\n",
              "    .dataframe thead th {\n",
              "        text-align: right;\n",
              "    }\n",
              "</style>\n",
              "<table border=\"1\" class=\"dataframe\">\n",
              "  <thead>\n",
              "    <tr style=\"text-align: right;\">\n",
              "      <th></th>\n",
              "      <th>country</th>\n",
              "      <th>year</th>\n",
              "      <th>iso_code</th>\n",
              "      <th>population</th>\n",
              "      <th>gdp</th>\n",
              "      <th>cement_co2</th>\n",
              "      <th>cement_co2_per_capita</th>\n",
              "      <th>co2</th>\n",
              "      <th>co2_growth_abs</th>\n",
              "      <th>co2_growth_prct</th>\n",
              "      <th>...</th>\n",
              "      <th>share_global_other_co2</th>\n",
              "      <th>share_of_temperature_change_from_ghg</th>\n",
              "      <th>temperature_change_from_ch4</th>\n",
              "      <th>temperature_change_from_co2</th>\n",
              "      <th>temperature_change_from_ghg</th>\n",
              "      <th>temperature_change_from_n2o</th>\n",
              "      <th>total_ghg</th>\n",
              "      <th>total_ghg_excluding_lucf</th>\n",
              "      <th>trade_co2</th>\n",
              "      <th>trade_co2_share</th>\n",
              "    </tr>\n",
              "  </thead>\n",
              "  <tbody>\n",
              "    <tr>\n",
              "      <th>0</th>\n",
              "      <td>Afghanistan</td>\n",
              "      <td>1750</td>\n",
              "      <td>AFG</td>\n",
              "      <td>2802560.0</td>\n",
              "      <td>NaN</td>\n",
              "      <td>0.0</td>\n",
              "      <td>0.0</td>\n",
              "      <td>NaN</td>\n",
              "      <td>NaN</td>\n",
              "      <td>NaN</td>\n",
              "      <td>...</td>\n",
              "      <td>NaN</td>\n",
              "      <td>NaN</td>\n",
              "      <td>NaN</td>\n",
              "      <td>NaN</td>\n",
              "      <td>NaN</td>\n",
              "      <td>NaN</td>\n",
              "      <td>NaN</td>\n",
              "      <td>NaN</td>\n",
              "      <td>NaN</td>\n",
              "      <td>NaN</td>\n",
              "    </tr>\n",
              "    <tr>\n",
              "      <th>1</th>\n",
              "      <td>Afghanistan</td>\n",
              "      <td>1751</td>\n",
              "      <td>AFG</td>\n",
              "      <td>NaN</td>\n",
              "      <td>NaN</td>\n",
              "      <td>0.0</td>\n",
              "      <td>NaN</td>\n",
              "      <td>NaN</td>\n",
              "      <td>NaN</td>\n",
              "      <td>NaN</td>\n",
              "      <td>...</td>\n",
              "      <td>NaN</td>\n",
              "      <td>NaN</td>\n",
              "      <td>NaN</td>\n",
              "      <td>NaN</td>\n",
              "      <td>NaN</td>\n",
              "      <td>NaN</td>\n",
              "      <td>NaN</td>\n",
              "      <td>NaN</td>\n",
              "      <td>NaN</td>\n",
              "      <td>NaN</td>\n",
              "    </tr>\n",
              "    <tr>\n",
              "      <th>2</th>\n",
              "      <td>Afghanistan</td>\n",
              "      <td>1752</td>\n",
              "      <td>AFG</td>\n",
              "      <td>NaN</td>\n",
              "      <td>NaN</td>\n",
              "      <td>0.0</td>\n",
              "      <td>NaN</td>\n",
              "      <td>NaN</td>\n",
              "      <td>NaN</td>\n",
              "      <td>NaN</td>\n",
              "      <td>...</td>\n",
              "      <td>NaN</td>\n",
              "      <td>NaN</td>\n",
              "      <td>NaN</td>\n",
              "      <td>NaN</td>\n",
              "      <td>NaN</td>\n",
              "      <td>NaN</td>\n",
              "      <td>NaN</td>\n",
              "      <td>NaN</td>\n",
              "      <td>NaN</td>\n",
              "      <td>NaN</td>\n",
              "    </tr>\n",
              "    <tr>\n",
              "      <th>3</th>\n",
              "      <td>Afghanistan</td>\n",
              "      <td>1753</td>\n",
              "      <td>AFG</td>\n",
              "      <td>NaN</td>\n",
              "      <td>NaN</td>\n",
              "      <td>0.0</td>\n",
              "      <td>NaN</td>\n",
              "      <td>NaN</td>\n",
              "      <td>NaN</td>\n",
              "      <td>NaN</td>\n",
              "      <td>...</td>\n",
              "      <td>NaN</td>\n",
              "      <td>NaN</td>\n",
              "      <td>NaN</td>\n",
              "      <td>NaN</td>\n",
              "      <td>NaN</td>\n",
              "      <td>NaN</td>\n",
              "      <td>NaN</td>\n",
              "      <td>NaN</td>\n",
              "      <td>NaN</td>\n",
              "      <td>NaN</td>\n",
              "    </tr>\n",
              "    <tr>\n",
              "      <th>4</th>\n",
              "      <td>Afghanistan</td>\n",
              "      <td>1754</td>\n",
              "      <td>AFG</td>\n",
              "      <td>NaN</td>\n",
              "      <td>NaN</td>\n",
              "      <td>0.0</td>\n",
              "      <td>NaN</td>\n",
              "      <td>NaN</td>\n",
              "      <td>NaN</td>\n",
              "      <td>NaN</td>\n",
              "      <td>...</td>\n",
              "      <td>NaN</td>\n",
              "      <td>NaN</td>\n",
              "      <td>NaN</td>\n",
              "      <td>NaN</td>\n",
              "      <td>NaN</td>\n",
              "      <td>NaN</td>\n",
              "      <td>NaN</td>\n",
              "      <td>NaN</td>\n",
              "      <td>NaN</td>\n",
              "      <td>NaN</td>\n",
              "    </tr>\n",
              "  </tbody>\n",
              "</table>\n",
              "<p>5 rows × 79 columns</p>\n",
              "</div>\n",
              "    <div class=\"colab-df-buttons\">\n",
              "\n",
              "  <div class=\"colab-df-container\">\n",
              "    <button class=\"colab-df-convert\" onclick=\"convertToInteractive('df-20f59ccf-4a4a-43e5-ad80-343d338bdc27')\"\n",
              "            title=\"Convert this dataframe to an interactive table.\"\n",
              "            style=\"display:none;\">\n",
              "\n",
              "  <svg xmlns=\"http://www.w3.org/2000/svg\" height=\"24px\" viewBox=\"0 -960 960 960\">\n",
              "    <path d=\"M120-120v-720h720v720H120Zm60-500h600v-160H180v160Zm220 220h160v-160H400v160Zm0 220h160v-160H400v160ZM180-400h160v-160H180v160Zm440 0h160v-160H620v160ZM180-180h160v-160H180v160Zm440 0h160v-160H620v160Z\"/>\n",
              "  </svg>\n",
              "    </button>\n",
              "\n",
              "  <style>\n",
              "    .colab-df-container {\n",
              "      display:flex;\n",
              "      gap: 12px;\n",
              "    }\n",
              "\n",
              "    .colab-df-convert {\n",
              "      background-color: #E8F0FE;\n",
              "      border: none;\n",
              "      border-radius: 50%;\n",
              "      cursor: pointer;\n",
              "      display: none;\n",
              "      fill: #1967D2;\n",
              "      height: 32px;\n",
              "      padding: 0 0 0 0;\n",
              "      width: 32px;\n",
              "    }\n",
              "\n",
              "    .colab-df-convert:hover {\n",
              "      background-color: #E2EBFA;\n",
              "      box-shadow: 0px 1px 2px rgba(60, 64, 67, 0.3), 0px 1px 3px 1px rgba(60, 64, 67, 0.15);\n",
              "      fill: #174EA6;\n",
              "    }\n",
              "\n",
              "    .colab-df-buttons div {\n",
              "      margin-bottom: 4px;\n",
              "    }\n",
              "\n",
              "    [theme=dark] .colab-df-convert {\n",
              "      background-color: #3B4455;\n",
              "      fill: #D2E3FC;\n",
              "    }\n",
              "\n",
              "    [theme=dark] .colab-df-convert:hover {\n",
              "      background-color: #434B5C;\n",
              "      box-shadow: 0px 1px 3px 1px rgba(0, 0, 0, 0.15);\n",
              "      filter: drop-shadow(0px 1px 2px rgba(0, 0, 0, 0.3));\n",
              "      fill: #FFFFFF;\n",
              "    }\n",
              "  </style>\n",
              "\n",
              "    <script>\n",
              "      const buttonEl =\n",
              "        document.querySelector('#df-20f59ccf-4a4a-43e5-ad80-343d338bdc27 button.colab-df-convert');\n",
              "      buttonEl.style.display =\n",
              "        google.colab.kernel.accessAllowed ? 'block' : 'none';\n",
              "\n",
              "      async function convertToInteractive(key) {\n",
              "        const element = document.querySelector('#df-20f59ccf-4a4a-43e5-ad80-343d338bdc27');\n",
              "        const dataTable =\n",
              "          await google.colab.kernel.invokeFunction('convertToInteractive',\n",
              "                                                    [key], {});\n",
              "        if (!dataTable) return;\n",
              "\n",
              "        const docLinkHtml = 'Like what you see? Visit the ' +\n",
              "          '<a target=\"_blank\" href=https://colab.research.google.com/notebooks/data_table.ipynb>data table notebook</a>'\n",
              "          + ' to learn more about interactive tables.';\n",
              "        element.innerHTML = '';\n",
              "        dataTable['output_type'] = 'display_data';\n",
              "        await google.colab.output.renderOutput(dataTable, element);\n",
              "        const docLink = document.createElement('div');\n",
              "        docLink.innerHTML = docLinkHtml;\n",
              "        element.appendChild(docLink);\n",
              "      }\n",
              "    </script>\n",
              "  </div>\n",
              "\n",
              "\n",
              "<div id=\"df-ea2b5ae6-519b-4606-8614-99e642a64106\">\n",
              "  <button class=\"colab-df-quickchart\" onclick=\"quickchart('df-ea2b5ae6-519b-4606-8614-99e642a64106')\"\n",
              "            title=\"Suggest charts\"\n",
              "            style=\"display:none;\">\n",
              "\n",
              "<svg xmlns=\"http://www.w3.org/2000/svg\" height=\"24px\"viewBox=\"0 0 24 24\"\n",
              "     width=\"24px\">\n",
              "    <g>\n",
              "        <path d=\"M19 3H5c-1.1 0-2 .9-2 2v14c0 1.1.9 2 2 2h14c1.1 0 2-.9 2-2V5c0-1.1-.9-2-2-2zM9 17H7v-7h2v7zm4 0h-2V7h2v10zm4 0h-2v-4h2v4z\"/>\n",
              "    </g>\n",
              "</svg>\n",
              "  </button>\n",
              "\n",
              "<style>\n",
              "  .colab-df-quickchart {\n",
              "      --bg-color: #E8F0FE;\n",
              "      --fill-color: #1967D2;\n",
              "      --hover-bg-color: #E2EBFA;\n",
              "      --hover-fill-color: #174EA6;\n",
              "      --disabled-fill-color: #AAA;\n",
              "      --disabled-bg-color: #DDD;\n",
              "  }\n",
              "\n",
              "  [theme=dark] .colab-df-quickchart {\n",
              "      --bg-color: #3B4455;\n",
              "      --fill-color: #D2E3FC;\n",
              "      --hover-bg-color: #434B5C;\n",
              "      --hover-fill-color: #FFFFFF;\n",
              "      --disabled-bg-color: #3B4455;\n",
              "      --disabled-fill-color: #666;\n",
              "  }\n",
              "\n",
              "  .colab-df-quickchart {\n",
              "    background-color: var(--bg-color);\n",
              "    border: none;\n",
              "    border-radius: 50%;\n",
              "    cursor: pointer;\n",
              "    display: none;\n",
              "    fill: var(--fill-color);\n",
              "    height: 32px;\n",
              "    padding: 0;\n",
              "    width: 32px;\n",
              "  }\n",
              "\n",
              "  .colab-df-quickchart:hover {\n",
              "    background-color: var(--hover-bg-color);\n",
              "    box-shadow: 0 1px 2px rgba(60, 64, 67, 0.3), 0 1px 3px 1px rgba(60, 64, 67, 0.15);\n",
              "    fill: var(--button-hover-fill-color);\n",
              "  }\n",
              "\n",
              "  .colab-df-quickchart-complete:disabled,\n",
              "  .colab-df-quickchart-complete:disabled:hover {\n",
              "    background-color: var(--disabled-bg-color);\n",
              "    fill: var(--disabled-fill-color);\n",
              "    box-shadow: none;\n",
              "  }\n",
              "\n",
              "  .colab-df-spinner {\n",
              "    border: 2px solid var(--fill-color);\n",
              "    border-color: transparent;\n",
              "    border-bottom-color: var(--fill-color);\n",
              "    animation:\n",
              "      spin 1s steps(1) infinite;\n",
              "  }\n",
              "\n",
              "  @keyframes spin {\n",
              "    0% {\n",
              "      border-color: transparent;\n",
              "      border-bottom-color: var(--fill-color);\n",
              "      border-left-color: var(--fill-color);\n",
              "    }\n",
              "    20% {\n",
              "      border-color: transparent;\n",
              "      border-left-color: var(--fill-color);\n",
              "      border-top-color: var(--fill-color);\n",
              "    }\n",
              "    30% {\n",
              "      border-color: transparent;\n",
              "      border-left-color: var(--fill-color);\n",
              "      border-top-color: var(--fill-color);\n",
              "      border-right-color: var(--fill-color);\n",
              "    }\n",
              "    40% {\n",
              "      border-color: transparent;\n",
              "      border-right-color: var(--fill-color);\n",
              "      border-top-color: var(--fill-color);\n",
              "    }\n",
              "    60% {\n",
              "      border-color: transparent;\n",
              "      border-right-color: var(--fill-color);\n",
              "    }\n",
              "    80% {\n",
              "      border-color: transparent;\n",
              "      border-right-color: var(--fill-color);\n",
              "      border-bottom-color: var(--fill-color);\n",
              "    }\n",
              "    90% {\n",
              "      border-color: transparent;\n",
              "      border-bottom-color: var(--fill-color);\n",
              "    }\n",
              "  }\n",
              "</style>\n",
              "\n",
              "  <script>\n",
              "    async function quickchart(key) {\n",
              "      const quickchartButtonEl =\n",
              "        document.querySelector('#' + key + ' button');\n",
              "      quickchartButtonEl.disabled = true;  // To prevent multiple clicks.\n",
              "      quickchartButtonEl.classList.add('colab-df-spinner');\n",
              "      try {\n",
              "        const charts = await google.colab.kernel.invokeFunction(\n",
              "            'suggestCharts', [key], {});\n",
              "      } catch (error) {\n",
              "        console.error('Error during call to suggestCharts:', error);\n",
              "      }\n",
              "      quickchartButtonEl.classList.remove('colab-df-spinner');\n",
              "      quickchartButtonEl.classList.add('colab-df-quickchart-complete');\n",
              "    }\n",
              "    (() => {\n",
              "      let quickchartButtonEl =\n",
              "        document.querySelector('#df-ea2b5ae6-519b-4606-8614-99e642a64106 button');\n",
              "      quickchartButtonEl.style.display =\n",
              "        google.colab.kernel.accessAllowed ? 'block' : 'none';\n",
              "    })();\n",
              "  </script>\n",
              "</div>\n",
              "\n",
              "    </div>\n",
              "  </div>\n"
            ],
            "application/vnd.google.colaboratory.intrinsic+json": {
              "type": "dataframe",
              "variable_name": "df"
            }
          },
          "metadata": {},
          "execution_count": 2
        }
      ]
    },
    {
      "cell_type": "code",
      "source": [
        "# Ver el tamaño del dataset (filas y columnas)\n",
        "print(\"Dimensión del dataset (filas, columnas):\", df.shape)\n",
        "\n",
        "# Ver los nombres de las columnas disponibles\n",
        "print(\"\\nColumnas del dataset:\")\n",
        "print(df.columns.tolist())\n"
      ],
      "metadata": {
        "id": "0ex7NXPGEjHP",
        "outputId": "7773ca0e-7ed1-4b42-80cb-e565ebee04d1",
        "colab": {
          "base_uri": "https://localhost:8080/"
        }
      },
      "execution_count": 3,
      "outputs": [
        {
          "output_type": "stream",
          "name": "stdout",
          "text": [
            "Dimensión del dataset (filas, columnas): (50191, 79)\n",
            "\n",
            "Columnas del dataset:\n",
            "['country', 'year', 'iso_code', 'population', 'gdp', 'cement_co2', 'cement_co2_per_capita', 'co2', 'co2_growth_abs', 'co2_growth_prct', 'co2_including_luc', 'co2_including_luc_growth_abs', 'co2_including_luc_growth_prct', 'co2_including_luc_per_capita', 'co2_including_luc_per_gdp', 'co2_including_luc_per_unit_energy', 'co2_per_capita', 'co2_per_gdp', 'co2_per_unit_energy', 'coal_co2', 'coal_co2_per_capita', 'consumption_co2', 'consumption_co2_per_capita', 'consumption_co2_per_gdp', 'cumulative_cement_co2', 'cumulative_co2', 'cumulative_co2_including_luc', 'cumulative_coal_co2', 'cumulative_flaring_co2', 'cumulative_gas_co2', 'cumulative_luc_co2', 'cumulative_oil_co2', 'cumulative_other_co2', 'energy_per_capita', 'energy_per_gdp', 'flaring_co2', 'flaring_co2_per_capita', 'gas_co2', 'gas_co2_per_capita', 'ghg_excluding_lucf_per_capita', 'ghg_per_capita', 'land_use_change_co2', 'land_use_change_co2_per_capita', 'methane', 'methane_per_capita', 'nitrous_oxide', 'nitrous_oxide_per_capita', 'oil_co2', 'oil_co2_per_capita', 'other_co2_per_capita', 'other_industry_co2', 'primary_energy_consumption', 'share_global_cement_co2', 'share_global_co2', 'share_global_co2_including_luc', 'share_global_coal_co2', 'share_global_cumulative_cement_co2', 'share_global_cumulative_co2', 'share_global_cumulative_co2_including_luc', 'share_global_cumulative_coal_co2', 'share_global_cumulative_flaring_co2', 'share_global_cumulative_gas_co2', 'share_global_cumulative_luc_co2', 'share_global_cumulative_oil_co2', 'share_global_cumulative_other_co2', 'share_global_flaring_co2', 'share_global_gas_co2', 'share_global_luc_co2', 'share_global_oil_co2', 'share_global_other_co2', 'share_of_temperature_change_from_ghg', 'temperature_change_from_ch4', 'temperature_change_from_co2', 'temperature_change_from_ghg', 'temperature_change_from_n2o', 'total_ghg', 'total_ghg_excluding_lucf', 'trade_co2', 'trade_co2_share']\n"
          ]
        }
      ]
    },
    {
      "cell_type": "code",
      "source": [
        "# Ver los tipos de datos de cada columna\n",
        "print(\"\\nTipos de datos por columna:\")\n",
        "print(df.dtypes)\n"
      ],
      "metadata": {
        "id": "-Z3vkxKGF1xh",
        "outputId": "106f9b8c-b425-413c-aec0-e601f9ec23e8",
        "colab": {
          "base_uri": "https://localhost:8080/"
        }
      },
      "execution_count": 4,
      "outputs": [
        {
          "output_type": "stream",
          "name": "stdout",
          "text": [
            "\n",
            "Tipos de datos por columna:\n",
            "country                         object\n",
            "year                             int64\n",
            "iso_code                        object\n",
            "population                     float64\n",
            "gdp                            float64\n",
            "                                ...   \n",
            "temperature_change_from_n2o    float64\n",
            "total_ghg                      float64\n",
            "total_ghg_excluding_lucf       float64\n",
            "trade_co2                      float64\n",
            "trade_co2_share                float64\n",
            "Length: 79, dtype: object\n"
          ]
        }
      ]
    },
    {
      "cell_type": "code",
      "source": [
        "# Ver si hay valores nulos (datos faltantes)\n",
        "print(\"\\nCantidad de valores nulos por columna:\")\n",
        "print(df.isnull().sum().sort_values(ascending=False).head(15))\n"
      ],
      "metadata": {
        "id": "KXtYcW36GFKm",
        "outputId": "27e01458-a6d3-476a-ad37-d0adf7477423",
        "colab": {
          "base_uri": "https://localhost:8080/"
        }
      },
      "execution_count": 5,
      "outputs": [
        {
          "output_type": "stream",
          "name": "stdout",
          "text": [
            "\n",
            "Cantidad de valores nulos por columna:\n",
            "share_global_cumulative_other_co2    48083\n",
            "share_global_other_co2               48083\n",
            "other_co2_per_capita                 47717\n",
            "cumulative_other_co2                 46989\n",
            "other_industry_co2                   46989\n",
            "consumption_co2_per_gdp              45747\n",
            "consumption_co2_per_capita           45689\n",
            "trade_co2                            45656\n",
            "trade_co2_share                      45656\n",
            "consumption_co2                      45325\n",
            "energy_per_gdp                       42495\n",
            "co2_including_luc_per_unit_energy    40490\n",
            "energy_per_capita                    40082\n",
            "primary_energy_consumption           40040\n",
            "co2_per_unit_energy                  39841\n",
            "dtype: int64\n"
          ]
        }
      ]
    },
    {
      "cell_type": "code",
      "source": [
        "# Ver una muestra de países únicos\n",
        "print(\"\\nAlgunos países del dataset:\")\n",
        "print(df['country'].dropna().unique()[:10])\n",
        "\n",
        "# Ver rango de años\n",
        "print(\"\\nRango de años:\", df['year'].min(), \"-\", df['year'].max())\n"
      ],
      "metadata": {
        "id": "E3i4YPDxGTEM",
        "outputId": "45f3edcb-46b8-4672-e8b1-321603d08d75",
        "colab": {
          "base_uri": "https://localhost:8080/"
        }
      },
      "execution_count": 6,
      "outputs": [
        {
          "output_type": "stream",
          "name": "stdout",
          "text": [
            "\n",
            "Algunos países del dataset:\n",
            "['Afghanistan' 'Africa' 'Africa (GCP)' 'Albania' 'Algeria' 'Andorra'\n",
            " 'Angola' 'Anguilla' 'Antarctica' 'Antigua and Barbuda']\n",
            "\n",
            "Rango de años: 1750 - 2023\n"
          ]
        }
      ]
    },
    {
      "cell_type": "code",
      "source": [
        "# Ver el tamaño del dataset (número de filas y columnas)\n",
        "print(\"Dimensión del dataset (filas, columnas):\", df.shape)\n",
        "\n",
        "# Ver los nombres de las columnas disponibles\n",
        "print(\"\\nColumnas del dataset:\")\n",
        "print(df.columns.tolist())\n"
      ],
      "metadata": {
        "id": "fMY3d2vMIIUg",
        "outputId": "f3df6ab8-6483-4520-f252-abdab42671e2",
        "colab": {
          "base_uri": "https://localhost:8080/"
        }
      },
      "execution_count": 7,
      "outputs": [
        {
          "output_type": "stream",
          "name": "stdout",
          "text": [
            "Dimensión del dataset (filas, columnas): (50191, 79)\n",
            "\n",
            "Columnas del dataset:\n",
            "['country', 'year', 'iso_code', 'population', 'gdp', 'cement_co2', 'cement_co2_per_capita', 'co2', 'co2_growth_abs', 'co2_growth_prct', 'co2_including_luc', 'co2_including_luc_growth_abs', 'co2_including_luc_growth_prct', 'co2_including_luc_per_capita', 'co2_including_luc_per_gdp', 'co2_including_luc_per_unit_energy', 'co2_per_capita', 'co2_per_gdp', 'co2_per_unit_energy', 'coal_co2', 'coal_co2_per_capita', 'consumption_co2', 'consumption_co2_per_capita', 'consumption_co2_per_gdp', 'cumulative_cement_co2', 'cumulative_co2', 'cumulative_co2_including_luc', 'cumulative_coal_co2', 'cumulative_flaring_co2', 'cumulative_gas_co2', 'cumulative_luc_co2', 'cumulative_oil_co2', 'cumulative_other_co2', 'energy_per_capita', 'energy_per_gdp', 'flaring_co2', 'flaring_co2_per_capita', 'gas_co2', 'gas_co2_per_capita', 'ghg_excluding_lucf_per_capita', 'ghg_per_capita', 'land_use_change_co2', 'land_use_change_co2_per_capita', 'methane', 'methane_per_capita', 'nitrous_oxide', 'nitrous_oxide_per_capita', 'oil_co2', 'oil_co2_per_capita', 'other_co2_per_capita', 'other_industry_co2', 'primary_energy_consumption', 'share_global_cement_co2', 'share_global_co2', 'share_global_co2_including_luc', 'share_global_coal_co2', 'share_global_cumulative_cement_co2', 'share_global_cumulative_co2', 'share_global_cumulative_co2_including_luc', 'share_global_cumulative_coal_co2', 'share_global_cumulative_flaring_co2', 'share_global_cumulative_gas_co2', 'share_global_cumulative_luc_co2', 'share_global_cumulative_oil_co2', 'share_global_cumulative_other_co2', 'share_global_flaring_co2', 'share_global_gas_co2', 'share_global_luc_co2', 'share_global_oil_co2', 'share_global_other_co2', 'share_of_temperature_change_from_ghg', 'temperature_change_from_ch4', 'temperature_change_from_co2', 'temperature_change_from_ghg', 'temperature_change_from_n2o', 'total_ghg', 'total_ghg_excluding_lucf', 'trade_co2', 'trade_co2_share']\n"
          ]
        }
      ]
    },
    {
      "cell_type": "code",
      "source": [
        "# Ver los tipos de datos por columna\n",
        "print(\"Tipos de datos por columna:\")\n",
        "print(df.dtypes.value_counts())\n"
      ],
      "metadata": {
        "id": "i3C9RKhkJCOa",
        "outputId": "5bf1e209-938b-46c2-c0d6-ec2dd0590f66",
        "colab": {
          "base_uri": "https://localhost:8080/"
        }
      },
      "execution_count": 8,
      "outputs": [
        {
          "output_type": "stream",
          "name": "stdout",
          "text": [
            "Tipos de datos por columna:\n",
            "float64    76\n",
            "object      2\n",
            "int64       1\n",
            "Name: count, dtype: int64\n"
          ]
        }
      ]
    },
    {
      "cell_type": "code",
      "source": [
        "# Ver las columnas que son tipo \"object\" (texto)\n",
        "object_columns = df.select_dtypes(include='object').columns.tolist()\n",
        "print(\"Columnas tipo texto (object):\")\n",
        "print(object_columns)\n"
      ],
      "metadata": {
        "id": "t9n2UZveJI2d",
        "outputId": "6bc6b06c-7d9c-4b0f-e681-72844e53cfcf",
        "colab": {
          "base_uri": "https://localhost:8080/"
        }
      },
      "execution_count": 9,
      "outputs": [
        {
          "output_type": "stream",
          "name": "stdout",
          "text": [
            "Columnas tipo texto (object):\n",
            "['country', 'iso_code']\n"
          ]
        }
      ]
    },
    {
      "cell_type": "code",
      "source": [
        "# Ver cantidad de valores nulos por columna (de mayor a menor)\n",
        "nulos = df.isnull().sum().sort_values(ascending=False)\n",
        "\n",
        "# Mostrar solo las 20 columnas con más nulos\n",
        "print(\"Columnas con más valores faltantes:\")\n",
        "print(nulos.head(20))\n"
      ],
      "metadata": {
        "id": "XKrR-1rwMQ0m",
        "outputId": "e1f96f98-e952-49a9-df3e-1b09924d0adf",
        "colab": {
          "base_uri": "https://localhost:8080/"
        }
      },
      "execution_count": 10,
      "outputs": [
        {
          "output_type": "stream",
          "name": "stdout",
          "text": [
            "Columnas con más valores faltantes:\n",
            "share_global_cumulative_other_co2      48083\n",
            "share_global_other_co2                 48083\n",
            "other_co2_per_capita                   47717\n",
            "cumulative_other_co2                   46989\n",
            "other_industry_co2                     46989\n",
            "consumption_co2_per_gdp                45747\n",
            "consumption_co2_per_capita             45689\n",
            "trade_co2                              45656\n",
            "trade_co2_share                        45656\n",
            "consumption_co2                        45325\n",
            "energy_per_gdp                         42495\n",
            "co2_including_luc_per_unit_energy      40490\n",
            "energy_per_capita                      40082\n",
            "primary_energy_consumption             40040\n",
            "co2_per_unit_energy                    39841\n",
            "share_global_flaring_co2               39322\n",
            "share_global_cumulative_flaring_co2    39322\n",
            "flaring_co2_per_capita                 35497\n",
            "share_global_cumulative_gas_co2        35157\n",
            "share_global_gas_co2                   35157\n",
            "dtype: int64\n"
          ]
        }
      ]
    },
    {
      "cell_type": "code",
      "source": [
        "# Calcular porcentaje de nulos por columna\n",
        "porcentaje_nulos = df.isnull().mean()\n",
        "\n",
        "# Filtrar columnas con más del 80% de nulos\n",
        "columnas_muy_nulas = porcentaje_nulos[porcentaje_nulos > 0.8].index.tolist()\n",
        "\n",
        "print(\"Columnas con más del 80% de valores nulos:\")\n",
        "print(columnas_muy_nulas)\n"
      ],
      "metadata": {
        "id": "TXbSAeRLNBEd",
        "outputId": "6965d49c-93f4-41bb-bd9c-22a356fa708f",
        "colab": {
          "base_uri": "https://localhost:8080/"
        }
      },
      "execution_count": 11,
      "outputs": [
        {
          "output_type": "stream",
          "name": "stdout",
          "text": [
            "Columnas con más del 80% de valores nulos:\n",
            "['co2_including_luc_per_unit_energy', 'consumption_co2', 'consumption_co2_per_capita', 'consumption_co2_per_gdp', 'cumulative_other_co2', 'energy_per_gdp', 'other_co2_per_capita', 'other_industry_co2', 'share_global_cumulative_other_co2', 'share_global_other_co2', 'trade_co2', 'trade_co2_share']\n"
          ]
        }
      ]
    },
    {
      "cell_type": "code",
      "source": [
        "# Eliminar columnas con más del 80% de nulos\n",
        "df_clean = df.drop(columns=columnas_muy_nulas)\n",
        "\n",
        "# Confirmar nueva dimensión del dataset\n",
        "print(\"Dimensión después de eliminar columnas innecesarias:\", df_clean.shape)\n"
      ],
      "metadata": {
        "id": "qM9Q1X6VNq5s",
        "outputId": "d0a643c2-339c-4c01-861f-c50b2ffd821a",
        "colab": {
          "base_uri": "https://localhost:8080/"
        }
      },
      "execution_count": 12,
      "outputs": [
        {
          "output_type": "stream",
          "name": "stdout",
          "text": [
            "Dimensión después de eliminar columnas innecesarias: (50191, 67)\n"
          ]
        }
      ]
    },
    {
      "cell_type": "code",
      "source": [
        "# ¿Hay filas duplicadas exactas?\n",
        "duplicados = df_clean.duplicated().sum()\n",
        "print(\"Filas duplicadas encontradas:\", duplicados)\n",
        "\n",
        "# Eliminar duplicados si hay\n",
        "df_clean = df_clean.drop_duplicates()"
      ],
      "metadata": {
        "id": "9KFPQ8MTOC7V",
        "outputId": "0210b3d2-114b-424b-e718-df51dd379341",
        "colab": {
          "base_uri": "https://localhost:8080/"
        }
      },
      "execution_count": 13,
      "outputs": [
        {
          "output_type": "stream",
          "name": "stdout",
          "text": [
            "Filas duplicadas encontradas: 0\n"
          ]
        }
      ]
    },
    {
      "cell_type": "code",
      "source": [
        "# Ver los valores únicos de la columna \"country\"\n",
        "paises = df_clean['country'].unique()\n",
        "print(\"Cantidad total de países/regiones:\", len(paises))\n",
        "print(\"Ejemplos de países/regiones:\", paises[:10])\n"
      ],
      "metadata": {
        "id": "5FtHOCiQP-YG",
        "outputId": "ef43a7d2-ea10-4598-b445-089827dc98e3",
        "colab": {
          "base_uri": "https://localhost:8080/"
        }
      },
      "execution_count": 14,
      "outputs": [
        {
          "output_type": "stream",
          "name": "stdout",
          "text": [
            "Cantidad total de países/regiones: 255\n",
            "Ejemplos de países/regiones: ['Afghanistan' 'Africa' 'Africa (GCP)' 'Albania' 'Algeria' 'Andorra'\n",
            " 'Angola' 'Anguilla' 'Antarctica' 'Antigua and Barbuda']\n"
          ]
        }
      ]
    },
    {
      "cell_type": "code",
      "source": [
        "# Filtrar datos desde el año 2000 en adelante (más relevante para análisis actual)\n",
        "df_clean = df_clean[df_clean['year'] >= 2000]\n"
      ],
      "metadata": {
        "id": "6XFr6VGBQwEI"
      },
      "execution_count": 16,
      "outputs": []
    },
    {
      "cell_type": "code",
      "source": [
        "df_clean.shape\n"
      ],
      "metadata": {
        "id": "IM-gX7K6Rmm4",
        "outputId": "387df346-bf47-4b85-98cf-396fe5c8052f",
        "colab": {
          "base_uri": "https://localhost:8080/"
        }
      },
      "execution_count": 17,
      "outputs": [
        {
          "output_type": "execute_result",
          "data": {
            "text/plain": [
              "(6120, 67)"
            ]
          },
          "metadata": {},
          "execution_count": 17
        }
      ]
    },
    {
      "cell_type": "code",
      "source": [
        "!pip install -q pyarrow\n"
      ],
      "metadata": {
        "id": "QqWmsdL6TT88"
      },
      "execution_count": 18,
      "outputs": []
    },
    {
      "cell_type": "code",
      "source": [
        "df_clean.to_parquet(\"co2_emisiones_limpio.parquet\", index=False)\n"
      ],
      "metadata": {
        "id": "swy4nKPCTZ7C"
      },
      "execution_count": 19,
      "outputs": []
    }
  ]
}